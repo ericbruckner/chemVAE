{
 "cells": [
  {
   "cell_type": "markdown",
   "metadata": {},
   "source": [
    "# Import Libraries"
   ]
  },
  {
   "cell_type": "code",
   "execution_count": 1,
   "metadata": {},
   "outputs": [],
   "source": [
    "# import necessary libraries\n",
    "import numpy as np\n",
    "import pandas as pd\n",
    "import re\n",
    "import matplotlib.pyplot as plt\n",
    "from matplotlib.pyplot import figure\n",
    "\n",
    "from sklearn.model_selection import train_test_split\n",
    "from datetime import date\n",
    "from datetime import datetime\n",
    "\n",
    "import torch\n",
    "from torch import nn\n",
    "from torch.utils.data import Dataset\n",
    "from torch.utils.data import DataLoader\n",
    "from torchvision import transforms\n",
    "from torch.nn import functional as F\n",
    "from torch import nn, optim\n",
    "\n",
    "from rdkit import Chem\n",
    "import selfies as sf"
   ]
  },
  {
   "cell_type": "code",
   "execution_count": 2,
   "metadata": {},
   "outputs": [],
   "source": [
    "# import chemVAE functions\n",
    "from chemVAE import main"
   ]
  },
  {
   "cell_type": "markdown",
   "metadata": {},
   "source": [
    "# One-Hot Encode SMILES Data\n"
   ]
  },
  {
   "cell_type": "code",
   "execution_count": 3,
   "metadata": {},
   "outputs": [],
   "source": [
    "# load dataset\n",
    "df = pd.read_csv('opv_molecules.csv')\n",
    "\n",
    "# select SMILEs data\n",
    "smiles = df['SMILES'].values"
   ]
  },
  {
   "cell_type": "code",
   "execution_count": 4,
   "metadata": {},
   "outputs": [],
   "source": [
    "selfies = main.smiles2selfies(smiles) "
   ]
  },
  {
   "cell_type": "code",
   "execution_count": 5,
   "metadata": {},
   "outputs": [],
   "source": [
    "onehot_selfies, idx_to_symbol = main.onehotSELFIES(selfies)"
   ]
  },
  {
   "cell_type": "markdown",
   "metadata": {},
   "source": [
    "# Load One-Hot Encoded Data into Pytorch Dataset"
   ]
  },
  {
   "cell_type": "code",
   "execution_count": 6,
   "metadata": {},
   "outputs": [],
   "source": [
    "# split data in training and testing\n",
    "X_train, X_test, y_train, y_test = train_test_split(onehot_selfies, onehot_selfies, test_size = 0.40)\n",
    "X_test, X_val, y_test, y_val = train_test_split(X_test, X_test, test_size = 0.50)"
   ]
  },
  {
   "cell_type": "code",
   "execution_count": 7,
   "metadata": {},
   "outputs": [],
   "source": [
    "# Pytroch Dataset\n",
    "train_data = main.SELFIES_Dataset(X_train, y_train, transform = transforms.ToTensor())\n",
    "test_data = main.SELFIES_Dataset(X_test, y_test, transform = transforms.ToTensor())\n",
    "val_data = main.SELFIES_Dataset(X_val, y_val, transform = transforms.ToTensor())"
   ]
  },
  {
   "cell_type": "markdown",
   "metadata": {},
   "source": [
    "# Set Model Parameters"
   ]
  },
  {
   "cell_type": "code",
   "execution_count": 39,
   "metadata": {},
   "outputs": [],
   "source": [
    "num_characters, max_seq_len = onehot_selfies[0].shape\n",
    "params = {'num_conv_layers' : 3,\n",
    "             'layer1_filters' : num_characters,\n",
    "             'layer2_filters' : num_characters,\n",
    "             'layer3_filters' : num_characters,\n",
    "             'layer4_filters' : num_characters,\n",
    "             'kernel1_size' : 11,\n",
    "             'kernel2_size' : 11,\n",
    "             'kernel3_size' : 11,\n",
    "             'kernel4_size' : 11,\n",
    "             'lstm_stack_size' : 3,\n",
    "             'lstm_num_neurons' : 396,\n",
    "             'latent_dimensions' : 256,\n",
    "             'batch_size' : 256,\n",
    "             'epochs' : 500,\n",
    "             'learning_rate' : 10**-4,\n",
    "             'KLD_anneal_start' : 100,\n",
    "             'KLD_anneal_stop': 300,\n",
    "             'KLD_cycle_steps': 500,\n",
    "             'KLD_n_cycles' : 4}"
   ]
  },
  {
   "cell_type": "markdown",
   "metadata": {},
   "source": [
    "# Train Model"
   ]
  },
  {
   "cell_type": "code",
   "execution_count": 40,
   "metadata": {},
   "outputs": [
    {
     "name": "stdout",
     "output_type": "stream",
     "text": [
      "Training Model on: cuda\n"
     ]
    }
   ],
   "source": [
    "# set device\n",
    "device = torch.device('cuda' if torch.cuda.is_available() else 'cpu')\n",
    "print(\"Training Model on: \" + str(device))\n",
    "\n",
    "# load data\n",
    "train_loader = DataLoader(train_data, batch_size = params['batch_size'], shuffle = True)\n",
    "test_loader = DataLoader(test_data, batch_size = params['batch_size'], shuffle = True)\n",
    "\n",
    "# initialize model\n",
    "model = main.VAE(num_characters, max_seq_len, params).to(device)\n",
    "\n",
    "# set optimizer\n",
    "optimizer = optim.Adam(model.parameters(), lr = params['learning_rate'])\n",
    "\n",
    "# set KL annealing\n",
    "KLD_alpha = np.zeros(params['epochs'])\n",
    "KLD_alpha[params['KLD_anneal_start']:params['KLD_anneal_stop']] = np.linspace(0,1, params['KLD_anneal_stop'] - params['KLD_anneal_start'])\n",
    "KLD_alpha[params['KLD_anneal_stop']::] = 1\n",
    "\n",
    "## generate unique filenames\n",
    "date = date.today()\n",
    "now = datetime.now()\n",
    "time = now.strftime(\"%H%M%S\")\n",
    "model_filename = \"model_\" + str(date) + \"_\" + str(time) +'.pth'"
   ]
  },
  {
   "cell_type": "code",
   "execution_count": 41,
   "metadata": {
    "collapsed": true,
    "jupyter": {
     "outputs_hidden": true
    }
   },
   "outputs": [
    {
     "name": "stdout",
     "output_type": "stream",
     "text": [
      "====> Epoch: 1 Average loss: 0.00878\n",
      "====> Test set loss: 0.00734\n"
     ]
    },
    {
     "ename": "KeyboardInterrupt",
     "evalue": "",
     "output_type": "error",
     "traceback": [
      "\u001b[1;31m---------------------------------------------------------------------------\u001b[0m",
      "\u001b[1;31mKeyboardInterrupt\u001b[0m                         Traceback (most recent call last)",
      "\u001b[1;32m<ipython-input-41-bb2bc9d494b1>\u001b[0m in \u001b[0;36m<module>\u001b[1;34m\u001b[0m\n\u001b[0;32m      8\u001b[0m \u001b[1;32mfor\u001b[0m \u001b[0mepoch\u001b[0m \u001b[1;32min\u001b[0m \u001b[0mrange\u001b[0m\u001b[1;33m(\u001b[0m\u001b[1;36m1\u001b[0m\u001b[1;33m,\u001b[0m  \u001b[0mepoch\u001b[0m \u001b[1;33m+\u001b[0m \u001b[1;36m1\u001b[0m\u001b[1;33m)\u001b[0m\u001b[1;33m:\u001b[0m\u001b[1;33m\u001b[0m\u001b[1;33m\u001b[0m\u001b[0m\n\u001b[0;32m      9\u001b[0m         \u001b[0malpha\u001b[0m \u001b[1;33m=\u001b[0m \u001b[0mKLD_alpha\u001b[0m\u001b[1;33m[\u001b[0m\u001b[0mepoch\u001b[0m\u001b[1;33m-\u001b[0m\u001b[1;36m1\u001b[0m\u001b[1;33m]\u001b[0m\u001b[1;33m\u001b[0m\u001b[1;33m\u001b[0m\u001b[0m\n\u001b[1;32m---> 10\u001b[1;33m         \u001b[0mloss\u001b[0m\u001b[1;33m,\u001b[0m \u001b[0mBCE\u001b[0m\u001b[1;33m,\u001b[0m \u001b[0mKLD_wt\u001b[0m\u001b[1;33m,\u001b[0m \u001b[0mKLD\u001b[0m \u001b[1;33m=\u001b[0m \u001b[0mmain\u001b[0m\u001b[1;33m.\u001b[0m\u001b[0mtrain\u001b[0m\u001b[1;33m(\u001b[0m\u001b[0mmodel\u001b[0m\u001b[1;33m,\u001b[0m \u001b[0mtrain_loader\u001b[0m\u001b[1;33m,\u001b[0m \u001b[0moptimizer\u001b[0m\u001b[1;33m,\u001b[0m \u001b[0mdevice\u001b[0m\u001b[1;33m,\u001b[0m \u001b[0mepoch\u001b[0m\u001b[1;33m,\u001b[0m \u001b[0malpha\u001b[0m\u001b[1;33m)\u001b[0m\u001b[1;33m\u001b[0m\u001b[1;33m\u001b[0m\u001b[0m\n\u001b[0m\u001b[0;32m     11\u001b[0m         \u001b[0mtrain_loss\u001b[0m\u001b[1;33m.\u001b[0m\u001b[0mappend\u001b[0m\u001b[1;33m(\u001b[0m\u001b[0mloss\u001b[0m\u001b[1;33m)\u001b[0m\u001b[1;33m\u001b[0m\u001b[1;33m\u001b[0m\u001b[0m\n\u001b[0;32m     12\u001b[0m         \u001b[0mBCE_loss\u001b[0m\u001b[1;33m.\u001b[0m\u001b[0mappend\u001b[0m\u001b[1;33m(\u001b[0m\u001b[0mBCE\u001b[0m\u001b[1;33m)\u001b[0m\u001b[1;33m\u001b[0m\u001b[1;33m\u001b[0m\u001b[0m\n",
      "\u001b[1;32m~\\JupyterLab\\PyTorch\\CharVAE\\Clean_Energy_Project\\chemVAE\\chemVAE\\main.py\u001b[0m in \u001b[0;36mtrain\u001b[1;34m(model, train_loader, optimizer, device, epoch, KLD_alpha)\u001b[0m\n\u001b[0;32m    216\u001b[0m         \u001b[0mloss\u001b[0m \u001b[1;33m=\u001b[0m \u001b[0mBCE\u001b[0m \u001b[1;33m+\u001b[0m \u001b[0mKLD_alpha\u001b[0m\u001b[1;33m*\u001b[0m\u001b[0mKLD\u001b[0m\u001b[1;33m\u001b[0m\u001b[1;33m\u001b[0m\u001b[0m\n\u001b[0;32m    217\u001b[0m         \u001b[0mloss\u001b[0m\u001b[1;33m.\u001b[0m\u001b[0mbackward\u001b[0m\u001b[1;33m(\u001b[0m\u001b[1;33m)\u001b[0m\u001b[1;33m\u001b[0m\u001b[1;33m\u001b[0m\u001b[0m\n\u001b[1;32m--> 218\u001b[1;33m         \u001b[0mcur_loss\u001b[0m \u001b[1;33m=\u001b[0m \u001b[0mloss\u001b[0m\u001b[1;33m.\u001b[0m\u001b[0mitem\u001b[0m\u001b[1;33m(\u001b[0m\u001b[1;33m)\u001b[0m\u001b[1;33m\u001b[0m\u001b[1;33m\u001b[0m\u001b[0m\n\u001b[0m\u001b[0;32m    219\u001b[0m         \u001b[0mtrain_loss\u001b[0m \u001b[1;33m+=\u001b[0m \u001b[0mcur_loss\u001b[0m\u001b[1;33m\u001b[0m\u001b[1;33m\u001b[0m\u001b[0m\n\u001b[0;32m    220\u001b[0m         \u001b[0moptimizer\u001b[0m\u001b[1;33m.\u001b[0m\u001b[0mstep\u001b[0m\u001b[1;33m(\u001b[0m\u001b[1;33m)\u001b[0m\u001b[1;33m\u001b[0m\u001b[1;33m\u001b[0m\u001b[0m\n",
      "\u001b[1;31mKeyboardInterrupt\u001b[0m: "
     ]
    }
   ],
   "source": [
    "# train model\n",
    "epoch = params['KLD_cycle_steps']*params['KLD_n_cycles']\n",
    "train_loss = []\n",
    "test_loss = []\n",
    "BCE_loss = []\n",
    "KLD_loss = []\n",
    "KLD_weight = []\n",
    "for epoch in range(1,  epoch + 1):\n",
    "        alpha = KLD_alpha[epoch-1]\n",
    "        loss, BCE, KLD_wt, KLD = main.train(model, train_loader, optimizer, device, epoch, alpha)\n",
    "        train_loss.append(loss)\n",
    "        BCE_loss.append(BCE)\n",
    "        KLD_loss.append(KLD)\n",
    "        KLD_weight.append(KLD_wt)\n",
    "        \n",
    "        test_loss.append(main.test(model, test_loader, optimizer, device, epoch, alpha))    \n",
    "        \n",
    "# save model\n",
    "torch.save(model, model_filename)\n",
    "print(\"Saved PyTorch Model State to \" + model_filename)"
   ]
  },
  {
   "cell_type": "markdown",
   "metadata": {},
   "source": [
    "# Deploy Model"
   ]
  },
  {
   "cell_type": "code",
   "execution_count": 43,
   "metadata": {},
   "outputs": [],
   "source": [
    "# load trained model\n",
    "model = torch.load(model_filename) \n",
    "\n",
    "# load pretrained test model\n",
    "model = torch.load('pretrained_model.pth') "
   ]
  },
  {
   "cell_type": "code",
   "execution_count": 44,
   "metadata": {},
   "outputs": [],
   "source": [
    "# grab random sample from test_data\n",
    "sample_idx = np.random.randint(0,len(test_data)-1)\n",
    "img, label = train_data[sample_idx]\n",
    "\n",
    "# run model\n",
    "with torch.no_grad():\n",
    "        img = img.to(device)\n",
    "        recon_data, z, mu, logvar = model(img)\n",
    "recon_data = recon_data[0].cpu()\n",
    "\n",
    "# grab original smiles\n",
    "sample = img[0].cpu().numpy()\n",
    "char_ind = list(np.argmax(sample.squeeze(),axis=0))\n",
    "string = [idx_to_symbol[i] for i in char_ind]\n",
    "selfie = ''.join(string)\n",
    "smiles = sf.decoder(selfie)\n",
    "\n",
    "# reconstructed smiles\n",
    "recon_sample = recon_data.numpy()\n",
    "char_ind = list(np.argmax(recon_sample.squeeze(),axis=0))\n",
    "string = [idx_to_symbol[i] for i in char_ind]\n",
    "recon_selfie = ''.join(string)\n",
    "recon_smiles = sf.decoder(recon_selfie)"
   ]
  },
  {
   "cell_type": "code",
   "execution_count": 45,
   "metadata": {},
   "outputs": [
    {
     "data": {
      "text/plain": [
       "Text(0.5, 1.0, 'Reconstruction')"
      ]
     },
     "execution_count": 45,
     "metadata": {},
     "output_type": "execute_result"
    },
    {
     "data": {
      "image/png": "[encoded data removed]",
      "text/plain": [
       "<Figure size 800x600 with 2 Axes>"
      ]
     },
     "metadata": {
      "needs_background": "light"
     },
     "output_type": "display_data"
    }
   ],
   "source": [
    "# visualize model reconstruction\n",
    "\n",
    "## draw molecule and reconstruction\n",
    "m1 = Chem.MolFromSmiles(smiles)\n",
    "Draw.MolToFile(m1,'original.png') \n",
    "\n",
    "m2 = Chem.MolFromSmiles(recon_smiles)\n",
    "Draw.MolToFile(m2,'reconstruct.png') \n",
    "\n",
    "## visualize molecules in notebokk\n",
    "figure(figsize=(8, 6), dpi = 100)\n",
    "plt.subplot(1,2,1)\n",
    "img = mpimg.imread('original.png')\n",
    "plt.imshow(img)\n",
    "plt.axis('off')\n",
    "plt.title('Original')\n",
    "\n",
    "plt.subplot(1,2,2)\n",
    "img = mpimg.imread('reconstruct.png')\n",
    "plt.imshow(img)\n",
    "plt.axis('off')\n",
    "plt.title('Reconstruction')"
   ]
  }
 ],
 "metadata": {
  "kernelspec": {
   "display_name": "Python 3",
   "language": "python",
   "name": "python3"
  },
  "language_info": {
   "codemirror_mode": {
    "name": "ipython",
    "version": 3
   },
   "file_extension": ".py",
   "mimetype": "text/x-python",
   "name": "python",
   "nbconvert_exporter": "python",
   "pygments_lexer": "ipython3",
   "version": "3.8.5"
  }
 },
 "nbformat": 4,
 "nbformat_minor": 4
}
